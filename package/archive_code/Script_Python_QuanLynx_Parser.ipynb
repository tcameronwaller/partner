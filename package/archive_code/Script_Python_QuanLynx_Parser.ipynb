{
 "cells": [
  {
   "cell_type": "code",
   "execution_count": 24,
   "metadata": {
    "collapsed": false
   },
   "outputs": [
    {
     "name": "stdout",
     "output_type": "stream",
     "text": [
      "C:\\Data\\Research_Rutter\\Projects\\2016_Wei\\Mass_Spectrometry_2016-02-29_Analysis\\Quantity\n",
      "C:\\Data\\Research_Rutter\\Projects\\2016_Wei\\Mass_Spectrometry_2016-02-29_Analysis\\Quantity\\Quantity_Standard_Complete_Summary.txt\n",
      "C:\\Data\\Research_Rutter\\Projects\\2016_Wei\\Mass_Spectrometry_2016-02-29_Analysis\\Quantity\\Quantity_Standard_Report.txt\n"
     ]
    }
   ],
   "source": [
    "#Specify directory and in and out files\n",
    "import os\n",
    "#directory = os.path.join(os.path.expanduser(\"~\"), \"6521\", \"test\", \"cameron\")\n",
    "directory = os.path.join(\"C:\\\\\", \"Data\", \"Research_Rutter\", \"Projects\", \"2016_Wei\", \n",
    "                         \"Mass_Spectrometry_2016-02-29_Analysis\", \"Quantity\")\n",
    "print(directory)\n",
    "#directory = \"C:\\Data\\Research_Rutter\\Projects\\Metabolite_Analysis\\\\\"\n",
    "file_in_name = os.path.join(directory, \"Quantity_Standard_Complete_Summary.txt\")\n",
    "print(file_in_name)\n",
    "file_out_name = os.path.join(directory, \"Quantity_Standard_Report.txt\")\n",
    "print(file_out_name)\n"
   ]
  },
  {
   "cell_type": "code",
   "execution_count": 26,
   "metadata": {
    "collapsed": false
   },
   "outputs": [
    {
     "name": "stdout",
     "output_type": "stream",
     "text": [
      "C:\\Data\\Research_Rutter\\Projects\\2016_Wei\\Mass_Spectrometry_2016-02-29_Analysis\\Quantity\n",
      "C:\\Data\\Research_Rutter\\Projects\\2016_Wei\\Mass_Spectrometry_2016-02-29_Analysis\\Quantity\\Quantity_Apex_Complete_Summary.txt\n",
      "C:\\Data\\Research_Rutter\\Projects\\2016_Wei\\Mass_Spectrometry_2016-02-29_Analysis\\Quantity\\Quantity_Apex_Report.txt\n"
     ]
    }
   ],
   "source": [
    "#Author: T Cameron Waller\n",
    "#First edit: 22 February 2016\n",
    "#Last edit: 18 March 2016\n",
    "\n",
    "#Description:\n",
    "#QuanLynx exports data in a text file using the \"Complete Summary\" Export option.\n",
    "#This program parses the text file and exports the data to a tab-delimited table\n",
    "\n",
    "#Note:\n",
    "\n",
    "#I need to fix a problem with specifying the directory\n",
    "#For some reason I got an error with the following directory\n",
    "#directory = \"C:\\Users\\Research_Rutter\\Projects\\2016_Schell\\Mass_Spectrometry_2016-01-13_Analysis\\Quantity\\\\\"\n",
    "#The interpreter read\n",
    "#'C:\\\\Data\\\\Research_Rutter\\\\Projects\\x816_Schell\\\\Mass_Spectrometry_2016-01-13_Analysis\\\\Quantity\\\\Quantity_Standard_Complete_Summary.txt'\n",
    "\n",
    "#I should eventually put this code in a function that accepts directory, in file, and out file as arguments\n",
    "#Maybe I should make the function able to create an empty out file itself so that I don't have to do that separately\n",
    "#Then I should also put this function in a module or something\n",
    "\n",
    "#Specify directory and in and out files\n",
    "import os\n",
    "#directory = os.path.join(os.path.expanduser(\"~\"), \"6521\", \"test\", \"cameron\")\n",
    "directory = os.path.join(\"C:\\\\\", \"Data\", \"Research_Rutter\", \"Projects\", \"2016_Wei\", \n",
    "                         \"Mass_Spectrometry_2016-02-29_Analysis\", \"Quantity\")\n",
    "print(directory)\n",
    "#directory = \"C:\\Data\\Research_Rutter\\Projects\\Metabolite_Analysis\\\\\"\n",
    "file_in_name = os.path.join(directory, \"Quantity_Apex_Complete_Summary.txt\")\n",
    "print(file_in_name)\n",
    "file_out_name = os.path.join(directory, \"Quantity_Apex_Report.txt\")\n",
    "print(file_out_name)\n",
    "\n",
    "#Read information from file\n",
    "#Note, as written, the parser stores individual rows as delimited strings\n",
    "#This is to simplify writing the information to file\n",
    "#If I wanted to use the information in the program, then I would instead store the row information as a list\n",
    "#The total data set would be stored in a list of lists\n",
    "#The list of rows refers to lists of columns\n",
    "#iteration = 1\n",
    "list_row = []\n",
    "with open(file_in_name, \"r\") as file_in:\n",
    "    \n",
    "    #Print file lines\n",
    "    #print(file.read())\n",
    "    #print(file.readline())\n",
    "    #print(file.readlines())\n",
    "    \n",
    "    #Iterate over lines in file\n",
    "    for line in file_in:\n",
    "        \n",
    "        #print(iteration)\n",
    "        \n",
    "        #Identify and store analyte from block header in file\n",
    "        if line.strip()[0:8] == \"Compound\":\n",
    "            #print(line)\n",
    "            list_line_split = line.strip().split()\n",
    "            analyte = list_line_split[2].strip()\n",
    "            #print(analyte)\n",
    "            \n",
    "        #Identify and store column header names from first header line in file\n",
    "        elif not list_row and line.strip()[0:1] == \"#\":\n",
    "            #print(line)\n",
    "            list_line_split = line.strip().split(\"\\t\")\n",
    "            #print(list_line_split[1])\n",
    "            #print(list_line_split[1:11])\n",
    "            list_column = [\"Analyte\"]\n",
    "            list_column.append(list_line_split[1])\n",
    "            list_column.append(list_line_split[4])\n",
    "            list_column.append(list_line_split[5])\n",
    "            #print(list_column)\n",
    "            #list_row.append(list_column[:])\n",
    "            delimiter = \"\\t\"\n",
    "            list_row.append(delimiter.join(list_column[:]))\n",
    "            \n",
    "        #Identify and store values from lines in file\n",
    "        elif line.strip().split(\"\\t\")[0].isdigit():\n",
    "            #print(line)\n",
    "            list_line_split = line.split(\"\\t\")\n",
    "            #print(list_line_split[2])\n",
    "            #print(list_line_split[5])\n",
    "            #print(list_line_split[6])\n",
    "            #print(list_line_split[2:12])\n",
    "            list_column = [analyte]\n",
    "            list_column.append(list_line_split[2])\n",
    "            list_column.append(list_line_split[5])\n",
    "            list_column.append(list_line_split[6])\n",
    "            #print(list_column)\n",
    "            #list_row.append(list_column[:])\n",
    "            delimiter = \"\\t\"\n",
    "            list_row.append(delimiter.join(list_column[:]))\n",
    "        #iteration = iteration + 1\n",
    "#print(\"Is file_in closed?\", file_in.closed)\n",
    "\n",
    "#Print list of rows\n",
    "#print(list_row)\n",
    "#print(list_row[0])\n",
    "#print(list_row[1])\n",
    "#print(list_row[2])\n",
    "#print(list_row[3])\n",
    "#print(list_row[4])\n",
    "#print(list_row[5])\n",
    "\n",
    "#Write information to file\n",
    "\n",
    "with open(file_out_name, \"w\") as file_out:\n",
    "    \n",
    "    #Iterate over lines in file\n",
    "    for row in list_row:\n",
    "        \n",
    "        #Write row as line in file\n",
    "        #print(row)\n",
    "        file_out.write(row + \"\\n\")\n",
    "#print(\"Is file_out closed?\", file_out.closed)"
   ]
  },
  {
   "cell_type": "code",
   "execution_count": null,
   "metadata": {
    "collapsed": true
   },
   "outputs": [],
   "source": []
  }
 ],
 "metadata": {
  "kernelspec": {
   "display_name": "Python 3",
   "language": "python",
   "name": "python3"
  },
  "language_info": {
   "codemirror_mode": {
    "name": "ipython",
    "version": 3
   },
   "file_extension": ".py",
   "mimetype": "text/x-python",
   "name": "python",
   "nbconvert_exporter": "python",
   "pygments_lexer": "ipython3",
   "version": "3.5.1"
  }
 },
 "nbformat": 4,
 "nbformat_minor": 0
}
